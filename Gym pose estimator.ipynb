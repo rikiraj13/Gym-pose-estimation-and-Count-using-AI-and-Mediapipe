{
 "cells": [
  {
   "cell_type": "code",
   "execution_count": null,
   "id": "1740a511",
   "metadata": {},
   "outputs": [],
   "source": []
  },
  {
   "cell_type": "code",
   "execution_count": null,
   "id": "3a369ce3",
   "metadata": {},
   "outputs": [],
   "source": [
    "#Import dependencies"
   ]
  },
  {
   "cell_type": "code",
   "execution_count": 1,
   "id": "68c8b848",
   "metadata": {},
   "outputs": [],
   "source": [
    "import cv2\n",
    "import mediapipe as mp\n",
    "import numpy as np\n",
    "mp_drawings=mp.solutions.drawing_utils\n",
    "mp_pose=mp.solutions.pose\n",
    "\n",
    "\n"
   ]
  },
  {
   "cell_type": "code",
   "execution_count": null,
   "id": "d583594f",
   "metadata": {},
   "outputs": [],
   "source": [
    "#video capture from camera"
   ]
  },
  {
   "cell_type": "code",
   "execution_count": null,
   "id": "3b544feb",
   "metadata": {},
   "outputs": [],
   "source": [
    "cap=cv2.VideoCapture(0)\n",
    "while cap.isOpened():\n",
    "    ret,frame=cap.read()\n",
    "    cv2.imshow(\"media pipeline\",frame)\n",
    "    if cv2.waitKey(10) & 0xFF == ord('q'):\n",
    "        break\n",
    "cap.release()\n",
    "cv2.destroyAllWindows()\n"
   ]
  },
  {
   "cell_type": "code",
   "execution_count": null,
   "id": "1749be59",
   "metadata": {},
   "outputs": [],
   "source": [
    "#make detection\n"
   ]
  },
  {
   "cell_type": "code",
   "execution_count": null,
   "id": "0f8a9635",
   "metadata": {},
   "outputs": [],
   "source": [
    "#Determining Joints"
   ]
  },
  {
   "cell_type": "code",
   "execution_count": 5,
   "id": "eca00981",
   "metadata": {},
   "outputs": [
    {
     "name": "stdout",
     "output_type": "stream",
     "text": [
      "down\n",
      "down\n",
      "down\n",
      "down\n",
      "down\n",
      "down\n",
      "down\n",
      "down\n",
      "down\n",
      "down\n",
      "down\n",
      "down\n",
      "down\n",
      "down\n",
      "down\n",
      "down\n"
     ]
    }
   ],
   "source": [
    "\n",
    "\n",
    "cap=cv2.VideoCapture(0) \n",
    "counter=0\n",
    "stage=None\n",
    "\n",
    "#setup mediapipe instance\n",
    "with mp_pose.Pose(min_detection_confidence=0.5,min_tracking_confidence=0.5,) as pose:\n",
    "        while cap.isOpened():\n",
    "            ret,frame =cap.read()\n",
    "\n",
    "            #recolor images to RGB\n",
    "            image=cv2.cvtColor(frame,cv2.COLOR_BGR2RGB)\n",
    "            image_flags_writablee= False\n",
    "\n",
    "            #Make detection\n",
    "            result=pose.process(image)\n",
    "\n",
    "            #color images back to BGR\n",
    "            image_flags_writablee= True\n",
    "            image=cv2.cvtColor(frame,cv2.COLOR_RGB2BGR)\n",
    "\n",
    "\n",
    "            #Extract landmark\n",
    "            try:\n",
    "                landmarks=result.pose_landmarks.landmark\n",
    "                \n",
    "                #Get Coordinates\n",
    "                shoulder=[landmarks[mp_pose.PoseLandmark.LEFT_SHOULDER.value].x,landmarks[mp_pose.PoseLandmark.LEFT_SHOULDER.value].y]\n",
    "                elbow=[landmarks[mp_pose.PoseLandmark.LEFT_ELBOW.value].x,landmarks[mp_pose.PoseLandmark.LEFT_ELBOW.value].y]\n",
    "                wrist=[landmarks[mp_pose.PoseLandmark.LEFT_WRIST.value].x,landmarks[mp_pose.PoseLandmark.LEFT_WRIST.value].y]\n",
    "                \n",
    "                #Calculate angles\n",
    "                angle=calculate_angle(shoulder,elbow,wrist)\n",
    "               \n",
    "                \n",
    "                #Visulaize angles\n",
    "                cv2.putText(image,str(angle),\n",
    "                            tuple(np.multiply(elbow,[480,360]).astype(int)),\n",
    "                            cv2.FONT_HERSHEY_SIMPLEX,0.5,(255,255,255),2,cv2.LINE_AA\n",
    "                           )\n",
    "                \n",
    "                #Curl counter Logic\n",
    "                if angle > 160:\n",
    "                    stage= \"down\"\n",
    "                    print(stage)\n",
    "                if angle < 30 and stage== \"down\" :\n",
    "                    stage=\"up\"\n",
    "                    counter +=1\n",
    "                    \n",
    "            except:\n",
    "                pass\n",
    "           \n",
    "            #render curl counter\n",
    "            #setup status box\n",
    "            \n",
    "            cv2.rectangle(image,(0,0),(225,73),(255,255,255),-1)\n",
    "            \n",
    "            #rep data\n",
    "            cv2.putText(image,\"Reps\",(15,12),\n",
    "                        cv2.FONT_HERSHEY_SIMPLEX,0.5,(0,0,0),1,cv2.LINE_AA\n",
    "                       )\n",
    "            cv2.putText(image,str(counter),(10,60),\n",
    "                        cv2.FONT_HERSHEY_SIMPLEX,0.5,(0,0,0),1,cv2.LINE_AA\n",
    "                       )\n",
    "            #stage data\n",
    "            cv2.putText(image,\"Stage\",(65,12),\n",
    "                        cv2.FONT_HERSHEY_SIMPLEX,0.5,(0,0,0),1,cv2.LINE_AA\n",
    "                       )\n",
    "            cv2.putText(image,stage,(60,60),\n",
    "                        cv2.FONT_HERSHEY_SIMPLEX,0.5,(0,0,0),1,cv2.LINE_AA\n",
    "                       )\n",
    "            \n",
    "\n",
    "            #render detection\n",
    "            mp_drawings.draw_landmarks(image,result.pose_landmarks,mp_pose.POSE_CONNECTIONS,\n",
    "                                        mp_drawings.DrawingSpec(color=(245,117,66),thickness=2,circle_radius=2),\n",
    "                                        mp_drawings.DrawingSpec(color=(245,66,230),thickness=2,circle_radius=2))\n",
    "\n",
    "\n",
    "            cv2.imshow(\"media pipeline\",image)\n",
    "        \n",
    "            if cv2.waitKey(10) & 0xFF == ord('q'):\n",
    "                break\n",
    "            \n",
    "            \n",
    "cap.release()\n",
    "cv2.destroyAllWindows()"
   ]
  },
  {
   "cell_type": "code",
   "execution_count": null,
   "id": "0bfcf4c0",
   "metadata": {},
   "outputs": [],
   "source": []
  },
  {
   "cell_type": "code",
   "execution_count": null,
   "id": "f9eb220f",
   "metadata": {},
   "outputs": [],
   "source": [
    "#calculate joint angles"
   ]
  },
  {
   "cell_type": "code",
   "execution_count": 3,
   "id": "2bcedc2f",
   "metadata": {},
   "outputs": [],
   "source": [
    "def calculate_angle(a,b,c):\n",
    "    a=np.array(a)  #first\n",
    "    b=np.array(b)  #mid\n",
    "    c=np.array(c)  #end\n",
    "    radians=np.arctan2(c[1]-b[1],c[0]-b[0])-np.arctan2(a[1]-b[1],a[0]-b[0])\n",
    "    angle=np.abs(radians*180.0/np.pi)\n",
    "    \n",
    "    if angle>180.0:\n",
    "        angle=360.0-angle\n",
    "        \n",
    "    return angle \n",
    "    \n",
    "    \n",
    "    "
   ]
  },
  {
   "cell_type": "code",
   "execution_count": null,
   "id": "0ccd98aa",
   "metadata": {},
   "outputs": [],
   "source": []
  }
 ],
 "metadata": {
  "kernelspec": {
   "display_name": "Python 3 (ipykernel)",
   "language": "python",
   "name": "python3"
  },
  "language_info": {
   "codemirror_mode": {
    "name": "ipython",
    "version": 3
   },
   "file_extension": ".py",
   "mimetype": "text/x-python",
   "name": "python",
   "nbconvert_exporter": "python",
   "pygments_lexer": "ipython3",
   "version": "3.9.7"
  }
 },
 "nbformat": 4,
 "nbformat_minor": 5
}
